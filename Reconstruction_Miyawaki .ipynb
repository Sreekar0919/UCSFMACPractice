{
 "cells": [
  {
   "cell_type": "code",
   "execution_count": 12,
   "metadata": {},
   "outputs": [
    {
     "name": "stderr",
     "output_type": "stream",
     "text": [
      "Fetching dataset..."
     ]
    },
    {
     "data": {
      "text/html": [
       "<pre style=\"white-space:pre;overflow-x:auto;line-height:normal;font-family:Menlo,'DejaVu Sans Mono',consolas,'Courier New',monospace\"><span style=\"color: #000080; text-decoration-color: #000080; font-weight: bold\">[</span><span style=\"color: #000080; text-decoration-color: #000080\">get_dataset_dir</span><span style=\"color: #000080; text-decoration-color: #000080; font-weight: bold\">]</span> Dataset found in <span style=\"color: #800080; text-decoration-color: #800080\">/Users/sreeku/nilearn_data/</span><span style=\"color: #ff00ff; text-decoration-color: #ff00ff\">miyawaki2008</span>\n",
       "</pre>\n"
      ],
      "text/plain": [
       "\u001b[1;34m[\u001b[0m\u001b[34mget_dataset_dir\u001b[0m\u001b[1;34m]\u001b[0m Dataset found in \u001b[35m/Users/sreeku/nilearn_data/\u001b[0m\u001b[95mmiyawaki2008\u001b[0m\n"
      ]
     },
     "metadata": {},
     "output_type": "display_data"
    },
    {
     "name": "stdout",
     "output_type": "stream",
     "text": [
      "First functional nifti image (4D) is located at: /Users/sreeku/nilearn_data/miyawaki2008/func/data_figure_run01.nii.gz\n"
     ]
    },
    {
     "name": "stderr",
     "output_type": "stream",
     "text": [
      " Done (0.06s).\n"
     ]
    },
    {
     "data": {
      "text/plain": [
       "15"
      ]
     },
     "execution_count": 12,
     "metadata": {},
     "output_type": "execute_result"
    }
   ],
   "source": [
    "import sys\n",
    "import time\n",
    "from nilearn import datasets\n",
    "from nilearn.plotting import show\n",
    "\n",
    "sys.stderr.write(\"Fetching dataset...\")\n",
    "t0 = time.time()\n",
    "\n",
    "miyawaki_dataset = datasets.fetch_miyawaki2008()\n",
    "\n",
    "# print basic information on the dataset\n",
    "print(\n",
    "    \"First functional nifti image (4D) is located \"\n",
    "    f\"at: {miyawaki_dataset.func[0]}\"\n",
    ")\n",
    "\n",
    "X_random_filenames = miyawaki_dataset.func[12:]\n",
    "X_figure_filenames = miyawaki_dataset.func[:12]\n",
    "y_random_filenames = miyawaki_dataset.label[12:]\n",
    "y_figure_filenames = miyawaki_dataset.label[:12]\n",
    "y_shape = (10, 10)\n",
    "\n",
    "sys.stderr.write(f\" Done ({time.time() - t0:.2f}s).\\n\")\n"
   ]
  },
  {
   "cell_type": "code",
   "execution_count": 13,
   "metadata": {},
   "outputs": [
    {
     "name": "stderr",
     "output_type": "stream",
     "text": [
      "Preprocessing data..."
     ]
    },
    {
     "data": {
      "text/html": [
       "<pre style=\"white-space:pre;overflow-x:auto;line-height:normal;font-family:Menlo,'DejaVu Sans Mono',consolas,'Courier New',monospace\"><span style=\"color: #000080; text-decoration-color: #000080; font-weight: bold\">[</span><span style=\"color: #000080; text-decoration-color: #000080\">MultiNiftiMasker.fit</span><span style=\"color: #000080; text-decoration-color: #000080; font-weight: bold\">]</span> Resampling mask\n",
       "</pre>\n"
      ],
      "text/plain": [
       "\u001b[1;34m[\u001b[0m\u001b[34mMultiNiftiMasker.fit\u001b[0m\u001b[1;34m]\u001b[0m Resampling mask\n"
      ]
     },
     "metadata": {},
     "output_type": "display_data"
    },
    {
     "name": "stderr",
     "output_type": "stream",
     "text": [
      " Done (24.51s).\n"
     ]
    },
    {
     "data": {
      "text/plain": [
       "16"
      ]
     },
     "execution_count": 13,
     "metadata": {},
     "output_type": "execute_result"
    }
   ],
   "source": [
    "import numpy as np\n",
    "\n",
    "from nilearn.maskers import MultiNiftiMasker\n",
    "\n",
    "sys.stderr.write(\"Preprocessing data...\")\n",
    "t0 = time.time()\n",
    "\n",
    "# Load and mask fMRI data\n",
    "masker = MultiNiftiMasker(\n",
    "    mask_img=miyawaki_dataset.mask, detrend=True, standardize=False, n_jobs=2\n",
    ")\n",
    "masker.fit()\n",
    "X_train = masker.transform(X_random_filenames)\n",
    "X_test = masker.transform(X_figure_filenames)\n",
    "\n",
    "y_train = [\n",
    "    np.reshape(\n",
    "        np.loadtxt(y, dtype=int, delimiter=\",\"), (-1, *y_shape), order=\"F\"\n",
    "    )\n",
    "    for y in y_random_filenames\n",
    "]\n",
    "y_test = [\n",
    "    np.reshape(\n",
    "        np.loadtxt(y, dtype=int, delimiter=\",\"), (-1, *y_shape), order=\"F\"\n",
    "    )\n",
    "    for y in y_figure_filenames\n",
    "]\n",
    "X_train = np.vstack([x[2:] for x in X_train])\n",
    "y_train = np.vstack([y[:-2] for y in y_train]).astype(float)\n",
    "X_test = np.vstack([x[2:] for x in X_test])\n",
    "y_test = np.vstack([y[:-2] for y in y_test]).astype(float)\n",
    "\n",
    "n_features = X_train.shape[1]\n",
    "\n",
    "\n",
    "def flatten(list_of_2d_array):\n",
    "    flattened = [array.ravel() for array in list_of_2d_array]\n",
    "    return flattened\n",
    "\n",
    "\n",
    "# Build the design matrix for multiscale computation\n",
    "# Matrix is squared, y_rows == y_cols\n",
    "y_cols = y_shape[1]\n",
    "\n",
    "# Original data\n",
    "design_matrix = np.eye(100)\n",
    "\n",
    "# Example of matrix used for multiscale (sum pixels vertically)\n",
    "#\n",
    "# 0.50 *\n",
    "#\n",
    "# 1 1 0 0 0 0 0 0 0 0\n",
    "# 0 1 1 0 0 0 0 0 0 0\n",
    "# 0 0 1 1 0 0 0 0 0 0\n",
    "# 0 0 0 1 1 0 0 0 0 0\n",
    "# 0 0 0 0 1 1 0 0 0 0\n",
    "# 0 0 0 0 0 1 1 0 0 0\n",
    "# 0 0 0 0 0 0 1 1 0 0\n",
    "# 0 0 0 0 0 0 0 1 1 0\n",
    "# 0 0 0 0 0 0 0 0 1 1\n",
    "\n",
    "height_tf = (np.eye(y_cols) + np.eye(y_cols, k=1))[: y_cols - 1] * 0.5\n",
    "width_tf = height_tf.T\n",
    "\n",
    "yt_tall = [np.dot(height_tf, m) for m in y_train]\n",
    "yt_large = [np.dot(m, width_tf) for m in y_train]\n",
    "yt_big = [np.dot(height_tf, np.dot(m, width_tf)) for m in y_train]\n",
    "\n",
    "# Add it to the training set\n",
    "y_train = [\n",
    "    np.r_[y.ravel(), t.ravel(), l.ravel(), b.ravel()]\n",
    "    for y, t, l, b in zip(y_train, yt_tall, yt_large, yt_big)\n",
    "]\n",
    "\n",
    "y_test = np.asarray(flatten(y_test))\n",
    "y_train = np.asarray(y_train)\n",
    "\n",
    "# Remove rest period\n",
    "X_train = X_train[y_train[:, 0] != -1]\n",
    "y_train = y_train[y_train[:, 0] != -1]\n",
    "X_test = X_test[y_test[:, 0] != -1]\n",
    "y_test = y_test[y_test[:, 0] != -1]\n",
    "\n",
    "sys.stderr.write(f\" Done ({time.time() - t0:.2f}s).\\n\")"
   ]
  },
  {
   "cell_type": "code",
   "execution_count": 14,
   "metadata": {},
   "outputs": [
    {
     "name": "stderr",
     "output_type": "stream",
     "text": [
      "Training classifiers 361/361... Done (24.40s).\n"
     ]
    },
    {
     "data": {
      "text/plain": [
       "47"
      ]
     },
     "execution_count": 14,
     "metadata": {},
     "output_type": "execute_result"
    }
   ],
   "source": [
    "sys.stderr.write(\"Training classifiers... \\r\")\n",
    "t0 = time.time()\n",
    "\n",
    "from sklearn.feature_selection import SelectKBest, f_classif\n",
    "from sklearn.linear_model import OrthogonalMatchingPursuit\n",
    "from sklearn.pipeline import Pipeline\n",
    "from sklearn.preprocessing import StandardScaler\n",
    "\n",
    "# Create as many OrthogonalMatchingPursuit as voxels to predict\n",
    "clfs = []\n",
    "n_clfs = y_train.shape[1]\n",
    "for i in range(y_train.shape[1]):\n",
    "    sys.stderr.write(\n",
    "        f\"Training classifiers {int(i + 1):03}/{int(n_clfs)}... \\r\"\n",
    "    )\n",
    "\n",
    "    clf = Pipeline(\n",
    "        [\n",
    "            (\"selection\", SelectKBest(f_classif, k=500)),\n",
    "            (\"scl\", StandardScaler()),\n",
    "            (\"clf\", OrthogonalMatchingPursuit(n_nonzero_coefs=10)),\n",
    "        ]\n",
    "    )\n",
    "    clf.fit(X_train, y_train[:, i])\n",
    "    clfs.append(clf)\n",
    "\n",
    "sys.stderr.write(\n",
    "    f\"Training classifiers {n_clfs:03d}/{n_clfs:d}... \"\n",
    "    f\"Done ({(time.time() - t0):.2f}s).\\n\"\n",
    ")"
   ]
  },
  {
   "cell_type": "code",
   "execution_count": 15,
   "metadata": {},
   "outputs": [
    {
     "name": "stderr",
     "output_type": "stream",
     "text": [
      "Calculating scores and outputs... Done (2.26s).\n"
     ]
    },
    {
     "data": {
      "text/plain": [
       "15"
      ]
     },
     "execution_count": 15,
     "metadata": {},
     "output_type": "execute_result"
    }
   ],
   "source": [
    "sys.stderr.write(\"Calculating scores and outputs...\")\n",
    "t0 = time.time()\n",
    "\n",
    "y_pred = [clf.predict(X_test) for clf in clfs]\n",
    "y_pred = np.asarray(y_pred).T\n",
    "\n",
    "\n",
    "# We need to the multi scale reconstruction\n",
    "def split_multi_scale(y, y_shape):\n",
    "    \"\"\"Split data into 4 original multi_scale images\"\"\"\n",
    "    yw, yh = y_shape\n",
    "\n",
    "    # Index of original image\n",
    "    split_index = [yw * yh]\n",
    "    # Index of large image\n",
    "    split_index.append(split_index[-1] + (yw - 1) * yh)\n",
    "    # Index of tall image\n",
    "    split_index.append(split_index[-1] + yw * (yh - 1))\n",
    "    # Index of big image\n",
    "    split_index.append(split_index[-1] + (yw - 1) * (yh - 1))\n",
    "\n",
    "    # We split according to computed indices\n",
    "    y_preds = np.split(y, split_index, axis=1)\n",
    "\n",
    "    # y_pred is the original image\n",
    "    y_pred = y_preds[0]\n",
    "\n",
    "    # y_pred_tall is the image with 1x2 patch application. We have to make\n",
    "    # some calculus to get it back in original shape\n",
    "    height_tf_i = (np.eye(y_cols) + np.eye(y_cols, k=-1))[\n",
    "        :, : y_cols - 1\n",
    "    ] * 0.5\n",
    "    height_tf_i.flat[0] = 1\n",
    "    height_tf_i.flat[-1] = 1\n",
    "    y_pred_tall = [\n",
    "        np.dot(height_tf_i, np.reshape(m, (yw - 1, yh))).flatten()\n",
    "        for m in y_preds[1]\n",
    "    ]\n",
    "    y_pred_tall = np.asarray(y_pred_tall)\n",
    "\n",
    "    # y_pred_large is the image with 2x1 patch application. We have to make\n",
    "    # some calculus to get it back in original shape\n",
    "    width_tf_i = (np.eye(y_cols) + np.eye(y_cols, k=1))[: y_cols - 1] * 0.5\n",
    "    width_tf_i.flat[0] = 1\n",
    "    width_tf_i.flat[-1] = 1\n",
    "    y_pred_large = [\n",
    "        np.dot(np.reshape(m, (yw, yh - 1)), width_tf_i).flatten()\n",
    "        for m in y_preds[2]\n",
    "    ]\n",
    "    y_pred_large = np.asarray(y_pred_large)\n",
    "\n",
    "    # y_pred_big is the image with 2x2 patch application. We use previous\n",
    "    # matrices to get it back in original shape\n",
    "    y_pred_big = [\n",
    "        np.dot(np.reshape(m, (yw - 1, yh - 1)), width_tf_i) for m in y_preds[3]\n",
    "    ]\n",
    "    y_pred_big = [\n",
    "        np.dot(height_tf_i, np.reshape(m, (yw - 1, yh))).flatten()\n",
    "        for m in y_pred_big\n",
    "    ]\n",
    "    y_pred_big = np.asarray(y_pred_big)\n",
    "\n",
    "    return (y_pred, y_pred_tall, y_pred_large, y_pred_big)\n",
    "\n",
    "\n",
    "y_pred, y_pred_tall, y_pred_large, y_pred_big = split_multi_scale(\n",
    "    y_pred, y_shape\n",
    ")\n",
    "\n",
    "y_pred = (\n",
    "    0.25 * y_pred\n",
    "    + 0.25 * y_pred_tall\n",
    "    + 0.25 * y_pred_large\n",
    "    + 0.25 * y_pred_big\n",
    ")\n",
    "\n",
    "sys.stderr.write(f\" Done ({time.time() - t0:.2f}s).\\n\")"
   ]
  },
  {
   "cell_type": "code",
   "execution_count": 16,
   "metadata": {},
   "outputs": [
    {
     "name": "stdout",
     "output_type": "stream",
     "text": [
      "Scores\n",
      "------\n",
      "  - Accuracy (percent): 0.801208\n",
      "  - Precision: 0.413969\n",
      "  - Recall: 0.572388\n",
      "  - F1-score: 0.465973\n"
     ]
    }
   ],
   "source": [
    "from sklearn.metrics import (\n",
    "    accuracy_score,\n",
    "    f1_score,\n",
    "    precision_score,\n",
    "    recall_score,\n",
    ")\n",
    "\n",
    "print(\"Scores\")\n",
    "print(\"------\")\n",
    "accuracy_to_print = np.mean(\n",
    "    [accuracy_score(y_test[:, i], y_pred[:, i] > 0.5) for i in range(100)]\n",
    ")\n",
    "print(f\"  - Accuracy (percent): {accuracy_to_print:f}\")\n",
    "\n",
    "precision_to_print = np.mean(\n",
    "    [precision_score(y_test[:, i], y_pred[:, i] > 0.5) for i in range(100)]\n",
    ")\n",
    "print(f\"  - Precision: {precision_to_print:f}\")\n",
    "\n",
    "recall_to_print = np.mean(\n",
    "    [\n",
    "        recall_score(y_test[:, i], y_pred[:, i] > 0.5, zero_division=0)\n",
    "        for i in range(100)\n",
    "    ]\n",
    ")\n",
    "print(f\"  - Recall: {recall_to_print:f}\")\n",
    "\n",
    "f1_score_to_print = np.mean(\n",
    "    [f1_score(y_test[:, i], y_pred[:, i] > 0.5) for i in range(100)]\n",
    ")\n",
    "print(f\"  - F1-score: {f1_score_to_print:f}\")"
   ]
  },
  {
   "cell_type": "code",
   "execution_count": 17,
   "metadata": {},
   "outputs": [
    {
     "name": "stdout",
     "output_type": "stream",
     "text": [
      "Output will be saved to: /Users/sreeku/Desktop/scikit + nilearn practice/results/plot_miyawaki_reconstruction\n"
     ]
    },
    {
     "data": {
      "image/png": "[encoded data removed]",
      "text/plain": [
       "<Figure size 640x480 with 3 Axes>"
      ]
     },
     "metadata": {},
     "output_type": "display_data"
    },
    {
     "data": {
      "image/png": "[encoded data removed]",
      "text/plain": [
       "<Figure size 640x480 with 3 Axes>"
      ]
     },
     "metadata": {},
     "output_type": "display_data"
    },
    {
     "data": {
      "image/png": "[encoded data removed]",
      "text/plain": [
       "<Figure size 640x480 with 3 Axes>"
      ]
     },
     "metadata": {},
     "output_type": "display_data"
    },
    {
     "data": {
      "image/png": "[encoded data removed]",
      "text/plain": [
       "<Figure size 640x480 with 3 Axes>"
      ]
     },
     "metadata": {},
     "output_type": "display_data"
    },
    {
     "data": {
      "image/png": "[encoded data removed]",
      "text/plain": [
       "<Figure size 640x480 with 3 Axes>"
      ]
     },
     "metadata": {},
     "output_type": "display_data"
    },
    {
     "data": {
      "image/png": "[encoded data removed]",
      "text/plain": [
       "<Figure size 640x480 with 3 Axes>"
      ]
     },
     "metadata": {},
     "output_type": "display_data"
    }
   ],
   "source": [
    "from pathlib import Path\n",
    "\n",
    "from matplotlib import pyplot as plt\n",
    "\n",
    "output_dir = Path.cwd() / \"results\" / \"plot_miyawaki_reconstruction\"\n",
    "output_dir.mkdir(exist_ok=True, parents=True)\n",
    "print(f\"Output will be saved to: {output_dir}\")\n",
    "\n",
    "for i in range(6):\n",
    "    j = 10 * i\n",
    "    fig = plt.figure()\n",
    "    sp1 = plt.subplot(131)\n",
    "    sp1.axis(\"off\")\n",
    "    plt.title(\"Stimulus\")\n",
    "    sp2 = plt.subplot(132)\n",
    "    sp2.axis(\"off\")\n",
    "    plt.title(\"Reconstruction\")\n",
    "    sp3 = plt.subplot(133)\n",
    "    sp3.axis(\"off\")\n",
    "    plt.title(\"Binarized\")\n",
    "    sp1.imshow(\n",
    "        np.reshape(y_test[j], (10, 10)),\n",
    "        cmap=plt.cm.gray,\n",
    "        interpolation=\"nearest\",\n",
    "    )\n",
    "    sp2.imshow(\n",
    "        np.reshape(y_pred[j], (10, 10)),\n",
    "        cmap=plt.cm.gray,\n",
    "        interpolation=\"nearest\",\n",
    "    )\n",
    "    sp3.imshow(\n",
    "        np.reshape(y_pred[j] > 0.5, (10, 10)),\n",
    "        cmap=plt.cm.gray,\n",
    "        interpolation=\"nearest\",\n",
    "    )\n",
    "    plt.savefig(output_dir / f\"miyawaki2008_reconstruction_{int(i)}.png\")\n",
    "\n",
    "show()"
   ]
  }
 ],
 "metadata": {
  "kernelspec": {
   "display_name": "nipype_env",
   "language": "python",
   "name": "nipype_env"
  },
  "language_info": {
   "codemirror_mode": {
    "name": "ipython",
    "version": 3
   },
   "file_extension": ".py",
   "mimetype": "text/x-python",
   "name": "python",
   "nbconvert_exporter": "python",
   "pygments_lexer": "ipython3",
   "version": "3.11.3"
  }
 },
 "nbformat": 4,
 "nbformat_minor": 2
}
